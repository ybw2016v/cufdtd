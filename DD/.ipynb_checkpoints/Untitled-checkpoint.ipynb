{
 "cells": [
  {
   "cell_type": "code",
   "execution_count": 3,
   "metadata": {},
   "outputs": [],
   "source": [
    "import configparser"
   ]
  },
  {
   "cell_type": "code",
   "execution_count": 4,
   "metadata": {},
   "outputs": [],
   "source": [
    "conf=configparser.ConfigParser()"
   ]
  },
  {
   "cell_type": "code",
   "execution_count": 6,
   "metadata": {},
   "outputs": [
    {
     "data": {
      "text/plain": [
       "['cufig.ini']"
      ]
     },
     "execution_count": 6,
     "metadata": {},
     "output_type": "execute_result"
    }
   ],
   "source": [
    "conf.read('cufig.ini')"
   ]
  },
  {
   "cell_type": "code",
   "execution_count": 8,
   "metadata": {},
   "outputs": [
    {
     "data": {
      "text/plain": [
       "['计算规模', '初始值', '中间过程', '结果输出']"
      ]
     },
     "execution_count": 8,
     "metadata": {},
     "output_type": "execute_result"
    }
   ],
   "source": [
    "conf.sections()"
   ]
  },
  {
   "cell_type": "code",
   "execution_count": 23,
   "metadata": {},
   "outputs": [
    {
     "data": {
      "text/plain": [
       "{'宽度': '400', '计算时间': '10000', '长度': '400'}"
      ]
     },
     "execution_count": 23,
     "metadata": {},
     "output_type": "execute_result"
    }
   ],
   "source": [
    "dict(conf.items('计算规模'))"
   ]
  },
  {
   "cell_type": "code",
   "execution_count": 21,
   "metadata": {},
   "outputs": [
    {
     "data": {
      "text/plain": [
       "'400'"
      ]
     },
     "execution_count": 21,
     "metadata": {},
     "output_type": "execute_result"
    }
   ],
   "source": [
    "conf.get('计算规模','长度')"
   ]
  },
  {
   "cell_type": "code",
   "execution_count": 24,
   "metadata": {},
   "outputs": [
    {
     "name": "stdout",
     "output_type": "stream",
     "text": [
      "计算规模\n",
      "初始值\n",
      "中间过程\n",
      "结果输出\n"
     ]
    }
   ],
   "source": [
    "for dog in conf.sections():\n",
    "    print(dog)"
   ]
  },
  {
   "cell_type": "code",
   "execution_count": 32,
   "metadata": {},
   "outputs": [],
   "source": [
    "def decodeconf(path):\n",
    "    conf=configparser.ConfigParser()\n",
    "    conf.read(path)\n",
    "    reslist=[]\n",
    "    selist=conf.sections()\n",
    "    for dog in selist:\n",
    "        reslist+=conf.items(dog)\n",
    "    dic=dict(reslist)\n",
    "    return dic\n",
    "        "
   ]
  },
  {
   "cell_type": "code",
   "execution_count": 33,
   "metadata": {},
   "outputs": [
    {
     "name": "stdout",
     "output_type": "stream",
     "text": [
      "{'长度': '400', '宽度': '400', '计算时间': '10000', '自动初值': '否', 'p0路径': '', 'vx路径': '', 'vz路径': '', 'm': '666', '添加方式': '', '输出频率': '', '输出路径': ''}\n"
     ]
    }
   ],
   "source": [
    "print(decodeconf('cufig.ini'))"
   ]
  },
  {
   "cell_type": "code",
   "execution_count": 34,
   "metadata": {},
   "outputs": [],
   "source": [
    "import numpy as np"
   ]
  },
  {
   "cell_type": "code",
   "execution_count": 47,
   "metadata": {},
   "outputs": [
    {
     "name": "stdout",
     "output_type": "stream",
     "text": [
      "OK\n",
      "开始自动生成\n",
      "自动生成成功\n"
     ]
    }
   ],
   "source": [
    "conf=decodeconf('cufig.ini')\n",
    "\n",
    "initz0 = conf['z0路径']\n",
    "z0=np.load(initz0)\n",
    "\n",
    "m=conf['m']\n",
    "\n",
    "outf=conf[\"输出频率\"]\n",
    "\n",
    "if z0.dtype == 'float32':\n",
    "    print(\"OK\")\n",
    "if conf['自动初值']=='是' or conf['自动初值']=='y' or conf['自动初值']=='y':\n",
    "    print('开始自动生成')\n",
    "    p0=np.zeros(np.shape(z0),dtype='float32')\n",
    "    vx=np.zeros(np.shape(z0),dtype='float32')\n",
    "    vz=np.zeros(np.shape(z0),dtype='float32')\n",
    "    print('自动生成成功')\n",
    "else:\n",
    "    initp0=conf['p0路径']\n",
    "    p0=np.load(initp0)\n",
    "    if z0.dtype == 'float32':\n",
    "        print(str(initp0)+'导入成功')\n",
    "    else:\n",
    "        print(\"警告:数据类型错误。\")\n",
    "            \n",
    "    initvx=conf['vx路径']\n",
    "    vx=np.load(initvx)\n",
    "    if vx.dtype == 'float32':\n",
    "        print(str(initvx)+'导入成功')\n",
    "    else:\n",
    "        print(\"警告:数据类型错误。\")\n",
    "    initvz=conf['vz路径']\n",
    "    vz=np.load(initvz)\n",
    "    if vz.dtype == 'float32':\n",
    "        print(str(initvz)+'导入成功')\n",
    "    else:\n",
    "        print(\"警告:数据类型错误。\")\n",
    "    \n",
    "\n",
    "    \n",
    "    \n",
    "        "
   ]
  },
  {
   "cell_type": "code",
   "execution_count": 43,
   "metadata": {},
   "outputs": [],
   "source": [
    "p0=np.zeros(np.shape(z0),dtype='float32')"
   ]
  },
  {
   "cell_type": "code",
   "execution_count": 1,
   "metadata": {},
   "outputs": [],
   "source": [
    "from matplotlib import pyplot as plt\n",
    "import numpy as np"
   ]
  },
  {
   "cell_type": "code",
   "execution_count": 25,
   "metadata": {},
   "outputs": [],
   "source": [
    "a=np.load('./res/p0_5.npy')"
   ]
  },
  {
   "cell_type": "code",
   "execution_count": 26,
   "metadata": {},
   "outputs": [
    {
     "data": {
      "text/plain": [
       "<matplotlib.colorbar.Colorbar at 0x7f9b1787b908>"
      ]
     },
     "execution_count": 26,
     "metadata": {},
     "output_type": "execute_result"
    },
    {
     "data": {
      "image/png": "[encoded data removed]",
      "text/plain": [
       "<Figure size 432x288 with 2 Axes>"
      ]
     },
     "metadata": {},
     "output_type": "display_data"
    }
   ],
   "source": [
    "a[200,200]=0\n",
    "plt.imshow(a)\n",
    "\n",
    "plt.colorbar()"
   ]
  },
  {
   "cell_type": "code",
   "execution_count": 16,
   "metadata": {},
   "outputs": [
    {
     "data": {
      "text/plain": [
       "array([[ 0.,  0.,  0., ...,  0.,  0.,  0.],\n",
       "       [ 0., nan, nan, ..., nan, nan,  0.],\n",
       "       [ 0., nan, nan, ..., nan, nan,  0.],\n",
       "       ...,\n",
       "       [ 0., nan, nan, ..., nan, nan,  0.],\n",
       "       [ 0., nan, nan, ..., nan, nan,  0.],\n",
       "       [ 0.,  0.,  0., ...,  0.,  0.,  0.]], dtype=float32)"
      ]
     },
     "execution_count": 16,
     "metadata": {},
     "output_type": "execute_result"
    }
   ],
   "source": [
    "a"
   ]
  },
  {
   "cell_type": "code",
   "execution_count": 17,
   "metadata": {},
   "outputs": [],
   "source": [
    "b=np.load('dogz.npy')"
   ]
  },
  {
   "cell_type": "code",
   "execution_count": 19,
   "metadata": {},
   "outputs": [],
   "source": [
    "b=b+1"
   ]
  },
  {
   "cell_type": "code",
   "execution_count": 20,
   "metadata": {},
   "outputs": [
    {
     "data": {
      "text/plain": [
       "array([[1., 1., 1., ..., 1., 1., 1.],\n",
       "       [1., 1., 1., ..., 1., 1., 1.],\n",
       "       [1., 1., 1., ..., 1., 1., 1.],\n",
       "       ...,\n",
       "       [1., 1., 1., ..., 1., 1., 1.],\n",
       "       [1., 1., 1., ..., 1., 1., 1.],\n",
       "       [1., 1., 1., ..., 1., 1., 1.]], dtype=float32)"
      ]
     },
     "execution_count": 20,
     "metadata": {},
     "output_type": "execute_result"
    }
   ],
   "source": [
    "b"
   ]
  },
  {
   "cell_type": "code",
   "execution_count": 22,
   "metadata": {},
   "outputs": [],
   "source": [
    "np.save('dogz.npy',b)"
   ]
  },
  {
   "cell_type": "code",
   "execution_count": null,
   "metadata": {},
   "outputs": [],
   "source": []
  }
 ],
 "metadata": {
  "kernelspec": {
   "display_name": "Python 3",
   "language": "python",
   "name": "python3"
  },
  "language_info": {
   "codemirror_mode": {
    "name": "ipython",
    "version": 3
   },
   "file_extension": ".py",
   "mimetype": "text/x-python",
   "name": "python",
   "nbconvert_exporter": "python",
   "pygments_lexer": "ipython3",
   "version": "3.6.5"
  }
 },
 "nbformat": 4,
 "nbformat_minor": 2
}
